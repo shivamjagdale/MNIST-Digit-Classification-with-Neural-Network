{
  "nbformat": 4,
  "nbformat_minor": 0,
  "metadata": {
    "colab": {
      "provenance": []
    },
    "kernelspec": {
      "name": "python3",
      "display_name": "Python 3"
    },
    "language_info": {
      "name": "python"
    }
  },
  "cells": [
    {
      "cell_type": "code",
      "source": [
        "import pandas as pd\n",
        "import numpy as np\n",
        "\n",
        "import cv2\n",
        "import os\n",
        "import matplotlib.pyplot as plt\n",
        "import matplotlib.image as mpimg\n",
        "\n",
        "from PIL import Image"
      ],
      "metadata": {
        "id": "LE30zw3aeRQl"
      },
      "execution_count": 1,
      "outputs": []
    },
    {
      "cell_type": "code",
      "source": [
        "import tensorflow as tf\n",
        "tf.random.set_seed(3)\n",
        "from tensorflow import keras"
      ],
      "metadata": {
        "id": "KnRXjopmwRVU"
      },
      "execution_count": 2,
      "outputs": []
    },
    {
      "cell_type": "code",
      "source": [
        "from keras.datasets import mnist"
      ],
      "metadata": {
        "id": "hLA8Nw2rwd5T"
      },
      "execution_count": 3,
      "outputs": []
    },
    {
      "cell_type": "code",
      "source": [
        "(X_train, Y_train), (X_test, Y_test) = mnist.load_data()"
      ],
      "metadata": {
        "colab": {
          "base_uri": "https://localhost:8080/"
        },
        "id": "KJZiIWc6wjdD",
        "outputId": "a7905c67-8706-4702-9302-a546781cfbb8"
      },
      "execution_count": 4,
      "outputs": [
        {
          "output_type": "stream",
          "name": "stdout",
          "text": [
            "Downloading data from https://storage.googleapis.com/tensorflow/tf-keras-datasets/mnist.npz\n",
            "\u001b[1m11490434/11490434\u001b[0m \u001b[32m━━━━━━━━━━━━━━━━━━━━\u001b[0m\u001b[37m\u001b[0m \u001b[1m1s\u001b[0m 0us/step\n"
          ]
        }
      ]
    },
    {
      "cell_type": "code",
      "source": [
        "from google.colab.patches import cv2_imshow"
      ],
      "metadata": {
        "id": "k8UnSyu2w-br"
      },
      "execution_count": 11,
      "outputs": []
    },
    {
      "cell_type": "code",
      "source": [
        "X_train.shape"
      ],
      "metadata": {
        "colab": {
          "base_uri": "https://localhost:8080/"
        },
        "id": "oY_w5xktwqCc",
        "outputId": "00018167-433b-4af4-c7ab-8ac985fedbab"
      },
      "execution_count": 5,
      "outputs": [
        {
          "output_type": "execute_result",
          "data": {
            "text/plain": [
              "(60000, 28, 28)"
            ]
          },
          "metadata": {},
          "execution_count": 5
        }
      ]
    },
    {
      "cell_type": "code",
      "source": [
        "img = plt.imshow(X_train[0])"
      ],
      "metadata": {
        "colab": {
          "base_uri": "https://localhost:8080/",
          "height": 430
        },
        "id": "39vI0sk-wrkM",
        "outputId": "93069885-395f-4cd3-d268-e5cc519ecdb0"
      },
      "execution_count": 9,
      "outputs": [
        {
          "output_type": "display_data",
          "data": {
            "text/plain": [
              "<Figure size 640x480 with 1 Axes>"
            ],
            "image/png": "[encoded data removed]"
          },
          "metadata": {}
        }
      ]
    },
    {
      "cell_type": "code",
      "source": [
        "img"
      ],
      "metadata": {
        "colab": {
          "base_uri": "https://localhost:8080/"
        },
        "id": "zU667u7Dwu6K",
        "outputId": "eb704257-9836-4b3b-d43e-71502d5e9d78"
      },
      "execution_count": 10,
      "outputs": [
        {
          "output_type": "execute_result",
          "data": {
            "text/plain": [
              "<matplotlib.image.AxesImage at 0x7bbb51018d90>"
            ]
          },
          "metadata": {},
          "execution_count": 10
        }
      ]
    },
    {
      "cell_type": "code",
      "source": [
        "cv2_imshow(X_train[15])"
      ],
      "metadata": {
        "colab": {
          "base_uri": "https://localhost:8080/",
          "height": 45
        },
        "id": "ybESnoEuwvYL",
        "outputId": "8078fcdd-65e3-4d48-96a7-f15fb7f332a6"
      },
      "execution_count": 13,
      "outputs": [
        {
          "output_type": "display_data",
          "data": {
            "text/plain": [
              "<PIL.Image.Image image mode=L size=28x28>"
            ],
            "image/png": "[encoded data removed]",
            "image/jpeg": "[encoded data removed]"
          },
          "metadata": {}
        }
      ]
    },
    {
      "cell_type": "code",
      "source": [
        "X_train[15]"
      ],
      "metadata": {
        "colab": {
          "base_uri": "https://localhost:8080/",
          "height": 1000
        },
        "id": "ur_yoNv9xEJb",
        "outputId": "aeb174cb-9cc8-4510-92eb-4f8cefa44347"
      },
      "execution_count": 15,
      "outputs": [
        {
          "output_type": "execute_result",
          "data": {
            "text/plain": [
              "array([[  0,   0,   0,   0,   0,   0,   0,   0,   0,   0,   0,   0,   0,\n",
              "          0,   0,   0,   0,   0,   0,   0,   0,   0,   0,   0,   0,   0,\n",
              "          0,   0],\n",
              "       [  0,   0,   0,   0,   0,   0,   0,   0,   0,   0,   0,   0,   0,\n",
              "          0,   0,   0,   0,   0,   0,   0,   0,   0,   0,   0,   0,   0,\n",
              "          0,   0],\n",
              "       [  0,   0,   0,   0,   0,   0,   0,   0,   0,   0,   0,   0,   0,\n",
              "          0,   0,   0,   0,   0,   0,   0,   0,   0,   0,   0,   0,   0,\n",
              "          0,   0],\n",
              "       [  0,   0,   0,   0,   0,   0,   0,   0,   0,   0,   0,   0,   0,\n",
              "          0,   0,   0,   0,   0,   0,   0,   0,   0,   0,   0,   0,   0,\n",
              "          0,   0],\n",
              "       [  0,   0,   0,   0,   0,   0,   0,   0,   0,   0,   0,   0,   0,\n",
              "          0,   0,   0,   0,   0,   0,   0,   0,   0,   0,   0,   0,   0,\n",
              "          0,   0],\n",
              "       [  0,   0,   0,   0,   0,   0,   0,   0,   0,   0,   0,   0,   0,\n",
              "          0,   0,   0,   0,   0,   0,   0,   0,   0,   0,   0,   0,   0,\n",
              "          0,   0],\n",
              "       [  0,   0,   0,   0,   0,   0,   0,   0,   0,   0,   0,   0,   0,\n",
              "          0,   0,   0,   0,   0,   0,   0,   0,   0,   0,   0,   0,   0,\n",
              "          0,   0],\n",
              "       [  0,   0,   0,   0,   0,   0,   0,   0,   0,   0,   0,   0,   0,\n",
              "          0,   0, 115, 121, 162, 253, 253, 213,   0,   0,   0,   0,   0,\n",
              "          0,   0],\n",
              "       [  0,   0,   0,   0,   0,   0,   0,   0,   0,   0,   0,   0,  63,\n",
              "        107, 170, 251, 252, 252, 252, 252, 250, 214,   0,   0,   0,   0,\n",
              "          0,   0],\n",
              "       [  0,   0,   0,   0,   0,   0,   0,   0,  25, 192, 226, 226, 241,\n",
              "        252, 253, 202, 252, 252, 252, 252, 252, 225,   0,   0,   0,   0,\n",
              "          0,   0],\n",
              "       [  0,   0,   0,   0,   0,   0,   0,  68, 223, 252, 252, 252, 252,\n",
              "        252,  39,  19,  39,  65, 224, 252, 252, 183,   0,   0,   0,   0,\n",
              "          0,   0],\n",
              "       [  0,   0,   0,   0,   0,   0,   0, 186, 252, 252, 252, 245, 108,\n",
              "         53,   0,   0,   0, 150, 252, 252, 220,  20,   0,   0,   0,   0,\n",
              "          0,   0],\n",
              "       [  0,   0,   0,   0,   0,   0,  70, 242, 252, 252, 222,  59,   0,\n",
              "          0,   0,   0,   0, 178, 252, 252, 141,   0,   0,   0,   0,   0,\n",
              "          0,   0],\n",
              "       [  0,   0,   0,   0,   0,   0, 185, 252, 252, 194,  67,   0,   0,\n",
              "          0,   0,  17,  90, 240, 252, 194,  67,   0,   0,   0,   0,   0,\n",
              "          0,   0],\n",
              "       [  0,   0,   0,   0,   0,   0,  83, 205, 190,  24,   0,   0,   0,\n",
              "          0,   0, 121, 252, 252, 209,  24,   0,   0,   0,   0,   0,   0,\n",
              "          0,   0],\n",
              "       [  0,   0,   0,   0,   0,   0,   0,   0,   0,   0,   0,   0,   0,\n",
              "          0,  77, 247, 252, 248, 106,   0,   0,   0,   0,   0,   0,   0,\n",
              "          0,   0],\n",
              "       [  0,   0,   0,   0,   0,   0,   0,   0,   0,   0,   0,   0,   0,\n",
              "          0, 253, 252, 252, 102,   0,   0,   0,   0,   0,   0,   0,   0,\n",
              "          0,   0],\n",
              "       [  0,   0,   0,   0,   0,   0,   0,   0,   0,   0,   0,   0,   0,\n",
              "        134, 255, 253, 253,  39,   0,   0,   0,   0,   0,   0,   0,   0,\n",
              "          0,   0],\n",
              "       [  0,   0,   0,   0,   0,   0,   0,   0,   0,   0,   0,   0,   6,\n",
              "        183, 253, 252, 107,   2,   0,   0,   0,   0,   0,   0,   0,   0,\n",
              "          0,   0],\n",
              "       [  0,   0,   0,   0,   0,   0,   0,   0,   0,   0,   0,  10, 102,\n",
              "        252, 253, 163,  16,   0,   0,   0,   0,   0,   0,   0,   0,   0,\n",
              "          0,   0],\n",
              "       [  0,   0,   0,   0,   0,   0,   0,   0,   0,   0,  13, 168, 252,\n",
              "        252, 110,   2,   0,   0,   0,   0,   0,   0,   0,   0,   0,   0,\n",
              "          0,   0],\n",
              "       [  0,   0,   0,   0,   0,   0,   0,   0,   0,   0,  41, 252, 252,\n",
              "        217,   0,   0,   0,   0,   0,   0,   0,   0,   0,   0,   0,   0,\n",
              "          0,   0],\n",
              "       [  0,   0,   0,   0,   0,   0,   0,   0,   0,  40, 155, 252, 214,\n",
              "         31,   0,   0,   0,   0,   0,   0,   0,   0,   0,   0,   0,   0,\n",
              "          0,   0],\n",
              "       [  0,   0,   0,   0,   0,   0,   0,   0,   0, 165, 252, 252, 106,\n",
              "          0,   0,   0,   0,   0,   0,   0,   0,   0,   0,   0,   0,   0,\n",
              "          0,   0],\n",
              "       [  0,   0,   0,   0,   0,   0,   0,   0,  43, 179, 252, 150,  39,\n",
              "          0,   0,   0,   0,   0,   0,   0,   0,   0,   0,   0,   0,   0,\n",
              "          0,   0],\n",
              "       [  0,   0,   0,   0,   0,   0,   0,   0, 137, 252, 221,  39,   0,\n",
              "          0,   0,   0,   0,   0,   0,   0,   0,   0,   0,   0,   0,   0,\n",
              "          0,   0],\n",
              "       [  0,   0,   0,   0,   0,   0,   0,   0,  67, 252,  79,   0,   0,\n",
              "          0,   0,   0,   0,   0,   0,   0,   0,   0,   0,   0,   0,   0,\n",
              "          0,   0],\n",
              "       [  0,   0,   0,   0,   0,   0,   0,   0,   0,   0,   0,   0,   0,\n",
              "          0,   0,   0,   0,   0,   0,   0,   0,   0,   0,   0,   0,   0,\n",
              "          0,   0]], dtype=uint8)"
            ],
            "text/html": [
              "<style>\n",
              "      .ndarray_repr .ndarray_raw_data {\n",
              "        display: none;\n",
              "      }\n",
              "      .ndarray_repr.show_array .ndarray_raw_data {\n",
              "        display: block;\n",
              "      }\n",
              "      .ndarray_repr.show_array .ndarray_image_preview {\n",
              "        display: none;\n",
              "      }\n",
              "      </style>\n",
              "      <div id=\"id-d2c53252-50d8-4367-851d-ae4ee12665b5\" class=\"ndarray_repr\"><pre>ndarray (28, 28) <button style=\"padding: 0 2px;\">show data</button></pre><img src=\"data:image/png;base64,iVBORw0KGgoAAAANSUhEUgAAABwAAAAcCAAAAABXZoBIAAAA5UlEQVR4nN3PMUuCURjF8aODg1AoOdjk+CbOTg0SRps0tNnukNHi1BcIHFwbaowgGl3EoJBGwaFFCsrKT6BBGPW/5CLF+3KfL+CZ7uV3H+5zpKVJLHJvJPL7eix4Xpbq1z8A38MIrPfG4ymuD8B72LZfAQjWgq036ITxBvg8LEo6hedMyHY+YLQpSWpDKzzYhfuyJKWrk8XpP3uDu6wk6Rgesp4iklSZ8XVgmBzULDv5dS4wLNFx1ON+S9ZwFym/rVzBkTGnPDxZy2ycM8xZeAnRhn9/FFZ1dmsNNnmxGkpldk3zZg5Mtl9waa8xrgAAAABJRU5ErkJggg==\" class=\"ndarray_image_preview\" /><pre class=\"ndarray_raw_data\">array([[  0,   0,   0,   0,   0,   0,   0,   0,   0,   0,   0,   0,   0,\n",
              "          0,   0,   0,   0,   0,   0,   0,   0,   0,   0,   0,   0,   0,\n",
              "          0,   0],\n",
              "       [  0,   0,   0,   0,   0,   0,   0,   0,   0,   0,   0,   0,   0,\n",
              "          0,   0,   0,   0,   0,   0,   0,   0,   0,   0,   0,   0,   0,\n",
              "          0,   0],\n",
              "       [  0,   0,   0,   0,   0,   0,   0,   0,   0,   0,   0,   0,   0,\n",
              "          0,   0,   0,   0,   0,   0,   0,   0,   0,   0,   0,   0,   0,\n",
              "          0,   0],\n",
              "       [  0,   0,   0,   0,   0,   0,   0,   0,   0,   0,   0,   0,   0,\n",
              "          0,   0,   0,   0,   0,   0,   0,   0,   0,   0,   0,   0,   0,\n",
              "          0,   0],\n",
              "       [  0,   0,   0,   0,   0,   0,   0,   0,   0,   0,   0,   0,   0,\n",
              "          0,   0,   0,   0,   0,   0,   0,   0,   0,   0,   0,   0,   0,\n",
              "          0,   0],\n",
              "       [  0,   0,   0,   0,   0,   0,   0,   0,   0,   0,   0,   0,   0,\n",
              "          0,   0,   0,   0,   0,   0,   0,   0,   0,   0,   0,   0,   0,\n",
              "          0,   0],\n",
              "       [  0,   0,   0,   0,   0,   0,   0,   0,   0,   0,   0,   0,   0,\n",
              "          0,   0,   0,   0,   0,   0,   0,   0,   0,   0,   0,   0,   0,\n",
              "          0,   0],\n",
              "       [  0,   0,   0,   0,   0,   0,   0,   0,   0,   0,   0,   0,   0,\n",
              "          0,   0, 115, 121, 162, 253, 253, 213,   0,   0,   0,   0,   0,\n",
              "          0,   0],\n",
              "       [  0,   0,   0,   0,   0,   0,   0,   0,   0,   0,   0,   0,  63,\n",
              "        107, 170, 251, 252, 252, 252, 252, 250, 214,   0,   0,   0,   0,\n",
              "          0,   0],\n",
              "       [  0,   0,   0,   0,   0,   0,   0,   0,  25, 192, 226, 226, 241,\n",
              "        252, 253, 202, 252, 252, 252, 252, 252, 225,   0,   0,   0,   0,\n",
              "          0,   0],\n",
              "       [  0,   0,   0,   0,   0,   0,   0,  68, 223, 252, 252, 252, 252,\n",
              "        252,  39,  19,  39,  65, 224, 252, 252, 183,   0,   0,   0,   0,\n",
              "          0,   0],\n",
              "       [  0,   0,   0,   0,   0,   0,   0, 186, 252, 252, 252, 245, 108,\n",
              "         53,   0,   0,   0, 150, 252, 252, 220,  20,   0,   0,   0,   0,\n",
              "          0,   0],\n",
              "       [  0,   0,   0,   0,   0,   0,  70, 242, 252, 252, 222,  59,   0,\n",
              "          0,   0,   0,   0, 178, 252, 252, 141,   0,   0,   0,   0,   0,\n",
              "          0,   0],\n",
              "       [  0,   0,   0,   0,   0,   0, 185, 252, 252, 194,  67,   0,   0,\n",
              "          0,   0,  17,  90, 240, 252, 194,  67,   0,   0,   0,   0,   0,\n",
              "          0,   0],\n",
              "       [  0,   0,   0,   0,   0,   0,  83, 205, 190,  24,   0,   0,   0,\n",
              "          0,   0, 121, 252, 252, 209,  24,   0,   0,   0,   0,   0,   0,\n",
              "          0,   0],\n",
              "       [  0,   0,   0,   0,   0,   0,   0,   0,   0,   0,   0,   0,   0,\n",
              "          0,  77, 247, 252, 248, 106,   0,   0,   0,   0,   0,   0,   0,\n",
              "          0,   0],\n",
              "       [  0,   0,   0,   0,   0,   0,   0,   0,   0,   0,   0,   0,   0,\n",
              "          0, 253, 252, 252, 102,   0,   0,   0,   0,   0,   0,   0,   0,\n",
              "          0,   0],\n",
              "       [  0,   0,   0,   0,   0,   0,   0,   0,   0,   0,   0,   0,   0,\n",
              "        134, 255, 253, 253,  39,   0,   0,   0,   0,   0,   0,   0,   0,\n",
              "          0,   0],\n",
              "       [  0,   0,   0,   0,   0,   0,   0,   0,   0,   0,   0,   0,   6,\n",
              "        183, 253, 252, 107,   2,   0,   0,   0,   0,   0,   0,   0,   0,\n",
              "          0,   0],\n",
              "       [  0,   0,   0,   0,   0,   0,   0,   0,   0,   0,   0,  10, 102,\n",
              "        252, 253, 163,  16,   0,   0,   0,   0,   0,   0,   0,   0,   0,\n",
              "          0,   0],\n",
              "       [  0,   0,   0,   0,   0,   0,   0,   0,   0,   0,  13, 168, 252,\n",
              "        252, 110,   2,   0,   0,   0,   0,   0,   0,   0,   0,   0,   0,\n",
              "          0,   0],\n",
              "       [  0,   0,   0,   0,   0,   0,   0,   0,   0,   0,  41, 252, 252,\n",
              "        217,   0,   0,   0,   0,   0,   0,   0,   0,   0,   0,   0,   0,\n",
              "          0,   0],\n",
              "       [  0,   0,   0,   0,   0,   0,   0,   0,   0,  40, 155, 252, 214,\n",
              "         31,   0,   0,   0,   0,   0,   0,   0,   0,   0,   0,   0,   0,\n",
              "          0,   0],\n",
              "       [  0,   0,   0,   0,   0,   0,   0,   0,   0, 165, 252, 252, 106,\n",
              "          0,   0,   0,   0,   0,   0,   0,   0,   0,   0,   0,   0,   0,\n",
              "          0,   0],\n",
              "       [  0,   0,   0,   0,   0,   0,   0,   0,  43, 179, 252, 150,  39,\n",
              "          0,   0,   0,   0,   0,   0,   0,   0,   0,   0,   0,   0,   0,\n",
              "          0,   0],\n",
              "       [  0,   0,   0,   0,   0,   0,   0,   0, 137, 252, 221,  39,   0,\n",
              "          0,   0,   0,   0,   0,   0,   0,   0,   0,   0,   0,   0,   0,\n",
              "          0,   0],\n",
              "       [  0,   0,   0,   0,   0,   0,   0,   0,  67, 252,  79,   0,   0,\n",
              "          0,   0,   0,   0,   0,   0,   0,   0,   0,   0,   0,   0,   0,\n",
              "          0,   0],\n",
              "       [  0,   0,   0,   0,   0,   0,   0,   0,   0,   0,   0,   0,   0,\n",
              "          0,   0,   0,   0,   0,   0,   0,   0,   0,   0,   0,   0,   0,\n",
              "          0,   0]], dtype=uint8)</pre></div><script>\n",
              "      (() => {\n",
              "      const titles = ['show data', 'hide data'];\n",
              "      let index = 0\n",
              "      document.querySelector('#id-d2c53252-50d8-4367-851d-ae4ee12665b5 button').onclick = (e) => {\n",
              "        document.querySelector('#id-d2c53252-50d8-4367-851d-ae4ee12665b5').classList.toggle('show_array');\n",
              "        index = (++index) % 2;\n",
              "        document.querySelector('#id-d2c53252-50d8-4367-851d-ae4ee12665b5 button').textContent = titles[index];\n",
              "        e.preventDefault();\n",
              "        e.stopPropagation();\n",
              "      }\n",
              "      })();\n",
              "    </script>"
            ]
          },
          "metadata": {},
          "execution_count": 15
        }
      ]
    },
    {
      "cell_type": "code",
      "source": [
        "X_train = X_train/255"
      ],
      "metadata": {
        "id": "zA7namVgxNz8"
      },
      "execution_count": 16,
      "outputs": []
    },
    {
      "cell_type": "code",
      "source": [
        "X_test = X_test/255"
      ],
      "metadata": {
        "id": "JfHXOU6fxYtz"
      },
      "execution_count": 17,
      "outputs": []
    },
    {
      "cell_type": "code",
      "source": [
        "np.unique(Y_test)"
      ],
      "metadata": {
        "colab": {
          "base_uri": "https://localhost:8080/"
        },
        "id": "qrpaUG6zx7Hs",
        "outputId": "da5f008e-ba1d-4c57-c70d-da3b61737af1"
      },
      "execution_count": 19,
      "outputs": [
        {
          "output_type": "execute_result",
          "data": {
            "text/plain": [
              "array([0, 1, 2, 3, 4, 5, 6, 7, 8, 9], dtype=uint8)"
            ]
          },
          "metadata": {},
          "execution_count": 19
        }
      ]
    },
    {
      "cell_type": "code",
      "source": [
        "model = keras.Sequential([keras.layers.Flatten(input_shape=(28,28)),\n",
        "                          keras.layers.Dense(50, activation=\"relu\"),\n",
        "                          keras.layers.Dense(50, activation=\"relu\"),\n",
        "                          keras.layers.Dense(10, activation=\"sigmoid\")])"
      ],
      "metadata": {
        "id": "r3DS3lKExaRk"
      },
      "execution_count": 22,
      "outputs": []
    },
    {
      "cell_type": "code",
      "source": [
        "model.compile(optimizer=\"adam\", loss=\"sparse_categorical_crossentropy\", metrics=[\"accuracy\"])"
      ],
      "metadata": {
        "id": "YFAWDNcpyFFz"
      },
      "execution_count": 23,
      "outputs": []
    },
    {
      "cell_type": "code",
      "source": [
        "model.fit(X_train, Y_train, validation_split=0.2, epochs=20)"
      ],
      "metadata": {
        "colab": {
          "base_uri": "https://localhost:8080/"
        },
        "id": "6T_wEt6Tydts",
        "outputId": "17a04670-b5d9-4737-d354-f7aa8e2cd366"
      },
      "execution_count": 24,
      "outputs": [
        {
          "output_type": "stream",
          "name": "stdout",
          "text": [
            "Epoch 1/20\n",
            "\u001b[1m1500/1500\u001b[0m \u001b[32m━━━━━━━━━━━━━━━━━━━━\u001b[0m\u001b[37m\u001b[0m \u001b[1m8s\u001b[0m 4ms/step - accuracy: 0.8298 - loss: 0.5706 - val_accuracy: 0.9403 - val_loss: 0.1926\n",
            "Epoch 2/20\n",
            "\u001b[1m1500/1500\u001b[0m \u001b[32m━━━━━━━━━━━━━━━━━━━━\u001b[0m\u001b[37m\u001b[0m \u001b[1m6s\u001b[0m 4ms/step - accuracy: 0.9513 - loss: 0.1641 - val_accuracy: 0.9522 - val_loss: 0.1571\n",
            "Epoch 3/20\n",
            "\u001b[1m1500/1500\u001b[0m \u001b[32m━━━━━━━━━━━━━━━━━━━━\u001b[0m\u001b[37m\u001b[0m \u001b[1m10s\u001b[0m 3ms/step - accuracy: 0.9640 - loss: 0.1184 - val_accuracy: 0.9563 - val_loss: 0.1404\n",
            "Epoch 4/20\n",
            "\u001b[1m1500/1500\u001b[0m \u001b[32m━━━━━━━━━━━━━━━━━━━━\u001b[0m\u001b[37m\u001b[0m \u001b[1m9s\u001b[0m 3ms/step - accuracy: 0.9720 - loss: 0.0923 - val_accuracy: 0.9613 - val_loss: 0.1280\n",
            "Epoch 5/20\n",
            "\u001b[1m1500/1500\u001b[0m \u001b[32m━━━━━━━━━━━━━━━━━━━━\u001b[0m\u001b[37m\u001b[0m \u001b[1m7s\u001b[0m 4ms/step - accuracy: 0.9785 - loss: 0.0740 - val_accuracy: 0.9630 - val_loss: 0.1221\n",
            "Epoch 6/20\n",
            "\u001b[1m1500/1500\u001b[0m \u001b[32m━━━━━━━━━━━━━━━━━━━━\u001b[0m\u001b[37m\u001b[0m \u001b[1m4s\u001b[0m 3ms/step - accuracy: 0.9822 - loss: 0.0604 - val_accuracy: 0.9649 - val_loss: 0.1178\n",
            "Epoch 7/20\n",
            "\u001b[1m1500/1500\u001b[0m \u001b[32m━━━━━━━━━━━━━━━━━━━━\u001b[0m\u001b[37m\u001b[0m \u001b[1m6s\u001b[0m 3ms/step - accuracy: 0.9853 - loss: 0.0493 - val_accuracy: 0.9680 - val_loss: 0.1126\n",
            "Epoch 8/20\n",
            "\u001b[1m1500/1500\u001b[0m \u001b[32m━━━━━━━━━━━━━━━━━━━━\u001b[0m\u001b[37m\u001b[0m \u001b[1m5s\u001b[0m 3ms/step - accuracy: 0.9876 - loss: 0.0410 - val_accuracy: 0.9674 - val_loss: 0.1212\n",
            "Epoch 9/20\n",
            "\u001b[1m1500/1500\u001b[0m \u001b[32m━━━━━━━━━━━━━━━━━━━━\u001b[0m\u001b[37m\u001b[0m \u001b[1m4s\u001b[0m 3ms/step - accuracy: 0.9897 - loss: 0.0361 - val_accuracy: 0.9662 - val_loss: 0.1253\n",
            "Epoch 10/20\n",
            "\u001b[1m1500/1500\u001b[0m \u001b[32m━━━━━━━━━━━━━━━━━━━━\u001b[0m\u001b[37m\u001b[0m \u001b[1m6s\u001b[0m 3ms/step - accuracy: 0.9909 - loss: 0.0311 - val_accuracy: 0.9596 - val_loss: 0.1564\n",
            "Epoch 11/20\n",
            "\u001b[1m1500/1500\u001b[0m \u001b[32m━━━━━━━━━━━━━━━━━━━━\u001b[0m\u001b[37m\u001b[0m \u001b[1m4s\u001b[0m 3ms/step - accuracy: 0.9916 - loss: 0.0279 - val_accuracy: 0.9668 - val_loss: 0.1404\n",
            "Epoch 12/20\n",
            "\u001b[1m1500/1500\u001b[0m \u001b[32m━━━━━━━━━━━━━━━━━━━━\u001b[0m\u001b[37m\u001b[0m \u001b[1m4s\u001b[0m 3ms/step - accuracy: 0.9926 - loss: 0.0247 - val_accuracy: 0.9585 - val_loss: 0.1830\n",
            "Epoch 13/20\n",
            "\u001b[1m1500/1500\u001b[0m \u001b[32m━━━━━━━━━━━━━━━━━━━━\u001b[0m\u001b[37m\u001b[0m \u001b[1m5s\u001b[0m 3ms/step - accuracy: 0.9923 - loss: 0.0242 - val_accuracy: 0.9641 - val_loss: 0.1620\n",
            "Epoch 14/20\n",
            "\u001b[1m1500/1500\u001b[0m \u001b[32m━━━━━━━━━━━━━━━━━━━━\u001b[0m\u001b[37m\u001b[0m \u001b[1m5s\u001b[0m 3ms/step - accuracy: 0.9933 - loss: 0.0223 - val_accuracy: 0.9675 - val_loss: 0.1575\n",
            "Epoch 15/20\n",
            "\u001b[1m1500/1500\u001b[0m \u001b[32m━━━━━━━━━━━━━━━━━━━━\u001b[0m\u001b[37m\u001b[0m \u001b[1m5s\u001b[0m 3ms/step - accuracy: 0.9934 - loss: 0.0213 - val_accuracy: 0.9697 - val_loss: 0.1508\n",
            "Epoch 16/20\n",
            "\u001b[1m1500/1500\u001b[0m \u001b[32m━━━━━━━━━━━━━━━━━━━━\u001b[0m\u001b[37m\u001b[0m \u001b[1m5s\u001b[0m 3ms/step - accuracy: 0.9942 - loss: 0.0189 - val_accuracy: 0.9637 - val_loss: 0.1755\n",
            "Epoch 17/20\n",
            "\u001b[1m1500/1500\u001b[0m \u001b[32m━━━━━━━━━━━━━━━━━━━━\u001b[0m\u001b[37m\u001b[0m \u001b[1m4s\u001b[0m 3ms/step - accuracy: 0.9936 - loss: 0.0202 - val_accuracy: 0.9661 - val_loss: 0.1687\n",
            "Epoch 18/20\n",
            "\u001b[1m1500/1500\u001b[0m \u001b[32m━━━━━━━━━━━━━━━━━━━━\u001b[0m\u001b[37m\u001b[0m \u001b[1m5s\u001b[0m 3ms/step - accuracy: 0.9946 - loss: 0.0178 - val_accuracy: 0.9693 - val_loss: 0.1631\n",
            "Epoch 19/20\n",
            "\u001b[1m1500/1500\u001b[0m \u001b[32m━━━━━━━━━━━━━━━━━━━━\u001b[0m\u001b[37m\u001b[0m \u001b[1m5s\u001b[0m 3ms/step - accuracy: 0.9955 - loss: 0.0133 - val_accuracy: 0.9665 - val_loss: 0.1818\n",
            "Epoch 20/20\n",
            "\u001b[1m1500/1500\u001b[0m \u001b[32m━━━━━━━━━━━━━━━━━━━━\u001b[0m\u001b[37m\u001b[0m \u001b[1m4s\u001b[0m 3ms/step - accuracy: 0.9950 - loss: 0.0138 - val_accuracy: 0.9672 - val_loss: 0.1882\n"
          ]
        },
        {
          "output_type": "execute_result",
          "data": {
            "text/plain": [
              "<keras.src.callbacks.history.History at 0x7bbb491438d0>"
            ]
          },
          "metadata": {},
          "execution_count": 24
        }
      ]
    },
    {
      "cell_type": "code",
      "source": [
        "loss, accuracy = model.evaluate(X_test, Y_test)"
      ],
      "metadata": {
        "colab": {
          "base_uri": "https://localhost:8080/"
        },
        "id": "QEZntk1ayh9U",
        "outputId": "52a8c31d-f0ee-45d3-ad4b-625e4c873346"
      },
      "execution_count": 25,
      "outputs": [
        {
          "output_type": "stream",
          "name": "stdout",
          "text": [
            "\u001b[1m313/313\u001b[0m \u001b[32m━━━━━━━━━━━━━━━━━━━━\u001b[0m\u001b[37m\u001b[0m \u001b[1m1s\u001b[0m 2ms/step - accuracy: 0.9610 - loss: 0.2210\n"
          ]
        }
      ]
    },
    {
      "cell_type": "code",
      "source": [
        "Y_pred = model.predict(X_test)"
      ],
      "metadata": {
        "colab": {
          "base_uri": "https://localhost:8080/"
        },
        "id": "hat4iuaeylsa",
        "outputId": "b51585c9-a001-47d9-ebed-fc6e7fb684fa"
      },
      "execution_count": 26,
      "outputs": [
        {
          "output_type": "stream",
          "name": "stdout",
          "text": [
            "\u001b[1m313/313\u001b[0m \u001b[32m━━━━━━━━━━━━━━━━━━━━\u001b[0m\u001b[37m\u001b[0m \u001b[1m1s\u001b[0m 2ms/step\n"
          ]
        }
      ]
    },
    {
      "cell_type": "code",
      "source": [
        "Y_pred"
      ],
      "metadata": {
        "colab": {
          "base_uri": "https://localhost:8080/"
        },
        "id": "RvkmS95mzAX6",
        "outputId": "1ac4a27e-2be4-4d6d-d370-ddd421d96d60"
      },
      "execution_count": 27,
      "outputs": [
        {
          "output_type": "execute_result",
          "data": {
            "text/plain": [
              "array([[1.0378982e-06, 6.8155071e-03, 2.9089156e-04, ..., 1.0000000e+00,\n",
              "        1.1106943e-02, 1.4016563e-02],\n",
              "       [7.3946938e-03, 9.9827093e-01, 1.0000000e+00, ..., 1.2767479e-15,\n",
              "        2.7386709e-06, 3.4774406e-21],\n",
              "       [9.1927679e-05, 9.9992639e-01, 8.0351753e-04, ..., 4.5873386e-01,\n",
              "        4.4834528e-02, 8.4580574e-04],\n",
              "       ...,\n",
              "       [1.1380515e-07, 1.4074375e-05, 1.1376654e-16, ..., 3.1339966e-02,\n",
              "        1.6612220e-04, 9.9997425e-01],\n",
              "       [9.3213137e-04, 4.4659332e-06, 3.6377116e-16, ..., 5.6430264e-03,\n",
              "        5.4138261e-01, 8.6408645e-06],\n",
              "       [6.0714636e-02, 9.0987683e-08, 7.0420867e-01, ..., 3.4391229e-18,\n",
              "        7.1868710e-02, 3.1716511e-06]], dtype=float32)"
            ]
          },
          "metadata": {},
          "execution_count": 27
        }
      ]
    },
    {
      "cell_type": "code",
      "source": [
        "Y_pred_lables = [np.argmax(i) for i in Y_pred]"
      ],
      "metadata": {
        "id": "R3I3A55mzAyb"
      },
      "execution_count": 29,
      "outputs": []
    },
    {
      "cell_type": "code",
      "source": [
        "plt.imshow(X_test[15])"
      ],
      "metadata": {
        "colab": {
          "base_uri": "https://localhost:8080/",
          "height": 447
        },
        "id": "mHT6nDpgzHTS",
        "outputId": "d5154ed3-ec95-45e3-f70a-d0fb781e907d"
      },
      "execution_count": 35,
      "outputs": [
        {
          "output_type": "execute_result",
          "data": {
            "text/plain": [
              "<matplotlib.image.AxesImage at 0x7bbb44293fd0>"
            ]
          },
          "metadata": {},
          "execution_count": 35
        },
        {
          "output_type": "display_data",
          "data": {
            "text/plain": [
              "<Figure size 640x480 with 1 Axes>"
            ],
            "image/png": "[encoded data removed]"
          },
          "metadata": {}
        }
      ]
    },
    {
      "cell_type": "code",
      "source": [
        "Y_test[15]"
      ],
      "metadata": {
        "colab": {
          "base_uri": "https://localhost:8080/"
        },
        "id": "6fVTUzvwzLIr",
        "outputId": "a43f9623-786b-40de-8b1f-21d5a613ff35"
      },
      "execution_count": 36,
      "outputs": [
        {
          "output_type": "execute_result",
          "data": {
            "text/plain": [
              "np.uint8(5)"
            ]
          },
          "metadata": {},
          "execution_count": 36
        }
      ]
    },
    {
      "cell_type": "code",
      "source": [
        "Y_pred_lables[15]"
      ],
      "metadata": {
        "colab": {
          "base_uri": "https://localhost:8080/"
        },
        "id": "OJYnzYRfzmT2",
        "outputId": "9ef1dd46-072f-440c-9901-4cea194b6d95"
      },
      "execution_count": 37,
      "outputs": [
        {
          "output_type": "execute_result",
          "data": {
            "text/plain": [
              "np.int64(5)"
            ]
          },
          "metadata": {},
          "execution_count": 37
        }
      ]
    },
    {
      "cell_type": "markdown",
      "source": [
        "# **Images**"
      ],
      "metadata": {
        "id": "OnGZFBKezpUs"
      }
    },
    {
      "cell_type": "code",
      "source": [
        "input_image = \"/content/img_27960.jpg\""
      ],
      "metadata": {
        "id": "zhmq7RHVzoHs"
      },
      "execution_count": 77,
      "outputs": []
    },
    {
      "cell_type": "code",
      "source": [
        "img = cv2.imread(input_image)"
      ],
      "metadata": {
        "id": "zoEJwwCK0a-z"
      },
      "execution_count": 78,
      "outputs": []
    },
    {
      "cell_type": "code",
      "source": [
        "img"
      ],
      "metadata": {
        "colab": {
          "base_uri": "https://localhost:8080/",
          "height": 69
        },
        "id": "HR0MIkLc0ePb",
        "outputId": "ae58470f-1867-4e4e-ca03-cd4fa7445848"
      },
      "execution_count": 79,
      "outputs": [
        {
          "output_type": "execute_result",
          "data": {
            "text/plain": [
              "array([[[0, 0, 0],\n",
              "        [0, 0, 0],\n",
              "        [0, 0, 0],\n",
              "        ...,\n",
              "        [0, 0, 0],\n",
              "        [0, 0, 0],\n",
              "        [0, 0, 0]],\n",
              "\n",
              "       [[0, 0, 0],\n",
              "        [0, 0, 0],\n",
              "        [0, 0, 0],\n",
              "        ...,\n",
              "        [0, 0, 0],\n",
              "        [0, 0, 0],\n",
              "        [0, 0, 0]],\n",
              "\n",
              "       [[0, 0, 0],\n",
              "        [0, 0, 0],\n",
              "        [0, 0, 0],\n",
              "        ...,\n",
              "        [0, 0, 0],\n",
              "        [0, 0, 0],\n",
              "        [0, 0, 0]],\n",
              "\n",
              "       ...,\n",
              "\n",
              "       [[0, 0, 0],\n",
              "        [0, 0, 0],\n",
              "        [0, 0, 0],\n",
              "        ...,\n",
              "        [0, 0, 0],\n",
              "        [0, 0, 0],\n",
              "        [0, 0, 0]],\n",
              "\n",
              "       [[0, 0, 0],\n",
              "        [0, 0, 0],\n",
              "        [0, 0, 0],\n",
              "        ...,\n",
              "        [0, 0, 0],\n",
              "        [0, 0, 0],\n",
              "        [0, 0, 0]],\n",
              "\n",
              "       [[0, 0, 0],\n",
              "        [0, 0, 0],\n",
              "        [0, 0, 0],\n",
              "        ...,\n",
              "        [0, 0, 0],\n",
              "        [0, 0, 0],\n",
              "        [0, 0, 0]]], dtype=uint8)"
            ],
            "text/html": [
              "<style>\n",
              "      .ndarray_repr .ndarray_raw_data {\n",
              "        display: none;\n",
              "      }\n",
              "      .ndarray_repr.show_array .ndarray_raw_data {\n",
              "        display: block;\n",
              "      }\n",
              "      .ndarray_repr.show_array .ndarray_image_preview {\n",
              "        display: none;\n",
              "      }\n",
              "      </style>\n",
              "      <div id=\"id-37a14195-048f-4e62-bcde-a9a87659b163\" class=\"ndarray_repr\"><pre>ndarray (28, 28, 3) <button style=\"padding: 0 2px;\">show data</button></pre><img src=\"data:image/png;base64,iVBORw0KGgoAAAANSUhEUgAAABwAAAAcCAIAAAD9b0jDAAADdElEQVR4nKVVO0v0TBSeyW2S7GSju2sREHZ1CxvFRsQ/IFqphSL4E/wBFmpjIdhIajtRLOxERYtF/QEKuiiIgqUbb3iDJCbZ3fmK8+68+bK+F31PEU6Gmec8547Qr6WlpQUUQRAQQoqiJC6kUilQVFX9Dc5PkSQJFEVRABQhJDYkl8sRQsBeNpv9K0SEUDqdBgrAAiAwxvwCIcQwjLgrf5b4e4SQaZqyLIOeyWQABWMMCpj8K2lra4M4xolomgYK2MAYc75fkJmZmefnZ8YYYywIgoWFhf7+/jju10RV1enp6UqlwhjzfT8MwyAIGGOu6y4tLWUymS/jiqKIEFpeXgaOnuedn5+vrq5eX1/DycbGRmdn5+8o8wLCGEMcIVGFQuHs7KxcLh8dHfX19SGEisViuVyOoogxZllW4vkPEQQBgHgGed7hDZyDJcuyMMaLi4v1ep0xZhgGJ/E/TPAlDMNarQZZZoyBJcdxRFEMwxAsZbNZx3EYY5RSbliW5UTx/eAVrxjQwR1ZloEFd0LTtFwu9/DwEEXR4eGhaZpws5ks0nUdrMmyrOt6wgCcgy7L8tjYGGMsiqKhoSGen0+KX1VVeKOqajzk7e3to6Oj4+Pj8YGyvb3tuq7rukmUhED1xL0oFou2bd/c3EBh1uv1i4uL+fn5qakp3/d9319fX+fPk6kH5vwUvKCUTk5OQsEHQfDy8nJ3d+d5HqBDMfX09PBACYLAaf20w6cD/x4cHNTr9cvLS35nYmLi/f0dumBra0vTNGDAR2pchGq1yksV3lNKgyDAGK+treXzeSiaUqlkGMbHx4emaR0dHeAEQsh1XULIJ1UVn5io0fKQ4tnZWUIIpXR/f//x8RGK2nGcubk5jDGllA+tZJYANN6/qVRqZWWFMVatVq+urk5OTgBuZ2fn9PQUmiWfz0PcdF3/ZPpBmAkhgiDwvFFKh4eHK5XK29sbpGhvb69QKAwMDADo8fFxa2sr+tWCSuw17lE6nTZNc3d39+npybbtrq4uYLC5uem6LmNscHCQ3/wcMd6shJB4sCRJgl9IiGVZt7e3r6+v9/f33d3dqHlHgbNwCpsyHt9416JGSaqq2tvbC1EulUqoaaF9RxRFkWXZtu1areZ53sjIyL8iokbQYUU3r+7viCiKPKWSJEG4ElH6PjRqhL55oPwH/Zd0X2W2XBoAAAAASUVORK5CYII=\" class=\"ndarray_image_preview\" /><pre class=\"ndarray_raw_data\">array([[[0, 0, 0],\n",
              "        [0, 0, 0],\n",
              "        [0, 0, 0],\n",
              "        ...,\n",
              "        [0, 0, 0],\n",
              "        [0, 0, 0],\n",
              "        [0, 0, 0]],\n",
              "\n",
              "       [[0, 0, 0],\n",
              "        [0, 0, 0],\n",
              "        [0, 0, 0],\n",
              "        ...,\n",
              "        [0, 0, 0],\n",
              "        [0, 0, 0],\n",
              "        [0, 0, 0]],\n",
              "\n",
              "       [[0, 0, 0],\n",
              "        [0, 0, 0],\n",
              "        [0, 0, 0],\n",
              "        ...,\n",
              "        [0, 0, 0],\n",
              "        [0, 0, 0],\n",
              "        [0, 0, 0]],\n",
              "\n",
              "       ...,\n",
              "\n",
              "       [[0, 0, 0],\n",
              "        [0, 0, 0],\n",
              "        [0, 0, 0],\n",
              "        ...,\n",
              "        [0, 0, 0],\n",
              "        [0, 0, 0],\n",
              "        [0, 0, 0]],\n",
              "\n",
              "       [[0, 0, 0],\n",
              "        [0, 0, 0],\n",
              "        [0, 0, 0],\n",
              "        ...,\n",
              "        [0, 0, 0],\n",
              "        [0, 0, 0],\n",
              "        [0, 0, 0]],\n",
              "\n",
              "       [[0, 0, 0],\n",
              "        [0, 0, 0],\n",
              "        [0, 0, 0],\n",
              "        ...,\n",
              "        [0, 0, 0],\n",
              "        [0, 0, 0],\n",
              "        [0, 0, 0]]], dtype=uint8)</pre></div><script>\n",
              "      (() => {\n",
              "      const titles = ['show data', 'hide data'];\n",
              "      let index = 0\n",
              "      document.querySelector('#id-37a14195-048f-4e62-bcde-a9a87659b163 button').onclick = (e) => {\n",
              "        document.querySelector('#id-37a14195-048f-4e62-bcde-a9a87659b163').classList.toggle('show_array');\n",
              "        index = (++index) % 2;\n",
              "        document.querySelector('#id-37a14195-048f-4e62-bcde-a9a87659b163 button').textContent = titles[index];\n",
              "        e.preventDefault();\n",
              "        e.stopPropagation();\n",
              "      }\n",
              "      })();\n",
              "    </script>"
            ]
          },
          "metadata": {},
          "execution_count": 79
        }
      ]
    },
    {
      "cell_type": "code",
      "source": [
        "img = cv2.cvtColor(img, cv2.COLOR_RGB2GRAY)"
      ],
      "metadata": {
        "id": "u-5VF8Vo0ekc"
      },
      "execution_count": 80,
      "outputs": []
    },
    {
      "cell_type": "code",
      "source": [
        "img"
      ],
      "metadata": {
        "colab": {
          "base_uri": "https://localhost:8080/",
          "height": 69
        },
        "id": "IDPYh2A50k26",
        "outputId": "0a090485-e83c-45bc-c1da-cf31b3eadbbf"
      },
      "execution_count": 81,
      "outputs": [
        {
          "output_type": "execute_result",
          "data": {
            "text/plain": [
              "array([[  0,   0,   0,   0,   0,   0,   0,   0,   0,  16,   0,   0,   2,\n",
              "          0,   6,   0,   0,   0,   0,   0,  11,   0,   0,   8,   0,   0,\n",
              "          0,   0],\n",
              "       [  0,   0,   0,   0,   0,   0,   0,   0,   4,   0,   0,   6,   2,\n",
              "          0,   0,   3,   3,   3,  20,   7,   0,   2,  19,   0,   0,   0,\n",
              "          0,   0],\n",
              "       [  0,   0,   0,   0,   0,   0,   0,   0,  14,   0,   8,   8,   0,\n",
              "          7,   0,   1,   0,   0,   0,   7,  13,   0,   0,   2,   0,   0,\n",
              "          0,   0],\n",
              "       [  0,   0,   0,   0,   0,   0,   0,   0,   1,   0,   0,   0,   0,\n",
              "         15,   5,   0,   0,  18,   2,   0,   1,   2,   0,   7,   0,   0,\n",
              "          0,   0],\n",
              "       [  0,   0,   0,   0,   0,   0,   0,   0,   0,  21,   6,   0,   2,\n",
              "          0,   0,   0,   9,   0,   0,   5,   0,   1,  13,   0,   0,   0,\n",
              "          0,   0],\n",
              "       [  0,   0,   0,   0,   0,   0,   0,   0,   0,   0,   0, 118, 238,\n",
              "        255, 255, 249, 129,  54,   0,   0,   5,   0,   0,   0,   0,   0,\n",
              "          0,   0],\n",
              "       [  0,   0,   0,   0,   0,   0,   0,   0,   0,   8, 106, 230, 255,\n",
              "        247, 250, 249, 255, 245, 136,  18,   0,   5,   0,   0,   0,   0,\n",
              "          0,   0],\n",
              "       [  0,   0,   0,   0,   0,   0,   0,   0,   3,   0, 141, 255, 255,\n",
              "        246, 211, 160, 218, 255, 255, 165,  34,   0,   0,   5,   0,   0,\n",
              "          0,   0],\n",
              "       [  0,   0,   4,   0,   0,   1,   6,   0,   1,   0,  32, 208, 209,\n",
              "        191,  52,   0,  35, 209, 251, 255,  25,   0,   0,   4,   0,   0,\n",
              "          0,   0],\n",
              "       [  2,   1,   6,   7,   0,   0,   1,   0,   0,  25,   0,   7,   0,\n",
              "          6,   0,  25,   1, 133, 254, 255,  13,   1,   6,   0,   0,   0,\n",
              "          0,   0],\n",
              "       [  1,   0,   0,   4,   2,   0,   0,   2,   1,   0,   3,   1,   0,\n",
              "          7,  19,   0,   0, 145, 255, 255,  13,   6,   7,   0,   0,   0,\n",
              "          0,   0],\n",
              "       [  1,   2,   0,   0,   0,   2,   0,   4,   0,   5,   6,   0,   7,\n",
              "          0,   0,   9,  20, 234, 251, 190,  15,   4,   0,   6,   0,   0,\n",
              "          0,   0],\n",
              "       [  0,  10,   1,   0,   5,  10,   0,   0,   0,   2,   0,   0,   5,\n",
              "          2,   0,   5,  80, 255, 251,  71,   5,   0,   0,   7,   0,   0,\n",
              "          0,   0],\n",
              "       [  0,   8,   2,   0,   8,   4,   0,   0,   0,  28,  79,  84,   2,\n",
              "          0,   6,   0, 178, 245, 245,   0,   0,   0,   0,   0,   0,   0,\n",
              "          0,   0],\n",
              "       [  0,   3,   0,   0,   6,   0,   0,  35, 143, 221, 249, 255, 254,\n",
              "        212, 124,  90, 247, 247, 163,   0,   0,   0,   4,   0,   0,   0,\n",
              "          0,   0],\n",
              "       [  7,   4,   0,   0,   7,   0,  12,  87, 255, 247, 249, 239, 232,\n",
              "        246, 255, 254, 251, 255,  45,  10,   0,   0,   2,   3,   0,   0,\n",
              "          0,   0],\n",
              "       [  4,   2,   0,   1,   0,   1,   0, 189, 254, 215,   0,   0,   4,\n",
              "         85, 242, 255, 246, 176,   9,   7,   0,  11,   0,   0,   0,   0,\n",
              "          0,   0],\n",
              "       [  0,   4,   1,   7,   0,   5,  12, 182, 255, 121,  31,   5,   5,\n",
              "         16, 255, 247, 255, 209,   0,   0,   0,   0,   7,   1,   0,   0,\n",
              "          0,   0],\n",
              "       [  0,   8,   0,   7,   0,   0,   8, 106, 255, 251, 122,   7,  12,\n",
              "        183, 235, 255, 255, 231, 123,   1,  12,   9,   0,   0,   0,   0,\n",
              "          0,   0],\n",
              "       [  3,   8,   0,   5,   0,   0,   0,  11, 153, 255, 252, 217, 204,\n",
              "        255, 255, 179, 207, 255, 250,  31,   2,   0,  10,  13,   0,   0,\n",
              "          0,   0],\n",
              "       [  0,   3,   0,   7,   2,   7,   4,   0,  12,  72, 230, 241, 255,\n",
              "        254, 182,  32,  56, 255, 250, 203,  17,   0,   8,   0,   0,   0,\n",
              "          0,   0],\n",
              "       [  0,   2,   0,   6,   0,   0,   9,   0,   0,  14,  15, 180, 236,\n",
              "        143,  39,   0,   3, 169, 245, 255,  69,   0,   0,  14,   0,   0,\n",
              "          0,   0],\n",
              "       [  2,   0,   6,   2,   0,   0,   0,   7,   9,   0,   0,   0,   4,\n",
              "          9,   0,   1,   0,  25, 229, 240, 233,  44,   0,   2,   0,   0,\n",
              "          0,   0],\n",
              "       [  4,   0,   2,   0,   3,   3,   0,   5,   0,   0,  10,   0,   0,\n",
              "          0,   0,   2,   3,   8,  47, 255, 255, 187,   0,   1,   0,   0,\n",
              "          0,   0],\n",
              "       [  0,   0,   0,   0,   0,   0,   0,   0,   0,   0,   0,   0,   0,\n",
              "          0,   0,   0,   0,   6,   5, 143, 253, 246,  78,   0,   0,   0,\n",
              "          0,   0],\n",
              "       [  0,   0,   0,   0,   0,   0,   0,   0,   0,   0,   0,   0,   0,\n",
              "          0,   0,   0,   0,   9,   0,   7,  13,   7,   0,   1,   0,   0,\n",
              "          0,   0],\n",
              "       [  0,   0,   0,   0,   0,   0,   0,   0,   0,   0,   0,   0,   0,\n",
              "          0,   0,   0,   3,   6,   0,   0,   4,   3,   0,  10,   0,   0,\n",
              "          0,   0],\n",
              "       [  0,   0,   0,   0,   0,   0,   0,   0,   0,   0,   0,   0,   0,\n",
              "          0,   0,   0,   0,   0,   3,   0,   5,   0,   4,   0,   0,   0,\n",
              "          0,   0]], dtype=uint8)"
            ],
            "text/html": [
              "<style>\n",
              "      .ndarray_repr .ndarray_raw_data {\n",
              "        display: none;\n",
              "      }\n",
              "      .ndarray_repr.show_array .ndarray_raw_data {\n",
              "        display: block;\n",
              "      }\n",
              "      .ndarray_repr.show_array .ndarray_image_preview {\n",
              "        display: none;\n",
              "      }\n",
              "      </style>\n",
              "      <div id=\"id-f2165d06-3e9a-4fbb-9390-e83738689f90\" class=\"ndarray_repr\"><pre>ndarray (28, 28) <button style=\"padding: 0 2px;\">show data</button></pre><img src=\"data:image/png;base64,iVBORw0KGgoAAAANSUhEUgAAABwAAAAcCAAAAABXZoBIAAABu0lEQVR4nHWSvYoTcRTFf/fO/2MmmUl0dy0Cwq5uYaPYiPgCopVaKIKPsA9goTYWgo2kthPFwk5UtFjUB1DQRUEULN34hV+QxEl2cy2SUWPW2/443HMOB6rbBkoAoA4pf5+DoJAkyUJE56cYDdKUiACxAJ2CAtD0MKeIEqelOwIKZOCRgn/v7Bez8uJB8DMoXVm3/qC07uW5GZpwxaz34tobs5u7/4gdSEBYer72+ADLa0NrgQNAJUQQaBEJtOTSyAoZl6Fmg03FVDrJAJnvWC7gZZJPAcXhAxGyhY/DR0036ZGa4GuAglf8CRse8VQlpErqgJ3HTyqBO93uVAYCLLffljZ6eeFMv3+DyizRQSQ/bf3y6/uejYa2rwaajFMqgvBw9ArcqR/Wu51F6mOhbqgEXF7K9UUvq8XPbFe/pBsnWVIipCs2PBfzB5/MOuclzyo/KR6oX7WN10/N7j6zwaJSKyq3UaMjP7r+3Ub3lw7Z4Mn23xNSAmTQaN773N5Dcqtrh6FRMQViBrgMofXu24e9kw05lCTBQw1Ak3S/2SoyMwYAgm9v9o5tzciIRfyPMgngkvGPrTB+Uvwvyd18HkX3HkUAAAAASUVORK5CYII=\" class=\"ndarray_image_preview\" /><pre class=\"ndarray_raw_data\">array([[  0,   0,   0,   0,   0,   0,   0,   0,   0,  16,   0,   0,   2,\n",
              "          0,   6,   0,   0,   0,   0,   0,  11,   0,   0,   8,   0,   0,\n",
              "          0,   0],\n",
              "       [  0,   0,   0,   0,   0,   0,   0,   0,   4,   0,   0,   6,   2,\n",
              "          0,   0,   3,   3,   3,  20,   7,   0,   2,  19,   0,   0,   0,\n",
              "          0,   0],\n",
              "       [  0,   0,   0,   0,   0,   0,   0,   0,  14,   0,   8,   8,   0,\n",
              "          7,   0,   1,   0,   0,   0,   7,  13,   0,   0,   2,   0,   0,\n",
              "          0,   0],\n",
              "       [  0,   0,   0,   0,   0,   0,   0,   0,   1,   0,   0,   0,   0,\n",
              "         15,   5,   0,   0,  18,   2,   0,   1,   2,   0,   7,   0,   0,\n",
              "          0,   0],\n",
              "       [  0,   0,   0,   0,   0,   0,   0,   0,   0,  21,   6,   0,   2,\n",
              "          0,   0,   0,   9,   0,   0,   5,   0,   1,  13,   0,   0,   0,\n",
              "          0,   0],\n",
              "       [  0,   0,   0,   0,   0,   0,   0,   0,   0,   0,   0, 118, 238,\n",
              "        255, 255, 249, 129,  54,   0,   0,   5,   0,   0,   0,   0,   0,\n",
              "          0,   0],\n",
              "       [  0,   0,   0,   0,   0,   0,   0,   0,   0,   8, 106, 230, 255,\n",
              "        247, 250, 249, 255, 245, 136,  18,   0,   5,   0,   0,   0,   0,\n",
              "          0,   0],\n",
              "       [  0,   0,   0,   0,   0,   0,   0,   0,   3,   0, 141, 255, 255,\n",
              "        246, 211, 160, 218, 255, 255, 165,  34,   0,   0,   5,   0,   0,\n",
              "          0,   0],\n",
              "       [  0,   0,   4,   0,   0,   1,   6,   0,   1,   0,  32, 208, 209,\n",
              "        191,  52,   0,  35, 209, 251, 255,  25,   0,   0,   4,   0,   0,\n",
              "          0,   0],\n",
              "       [  2,   1,   6,   7,   0,   0,   1,   0,   0,  25,   0,   7,   0,\n",
              "          6,   0,  25,   1, 133, 254, 255,  13,   1,   6,   0,   0,   0,\n",
              "          0,   0],\n",
              "       [  1,   0,   0,   4,   2,   0,   0,   2,   1,   0,   3,   1,   0,\n",
              "          7,  19,   0,   0, 145, 255, 255,  13,   6,   7,   0,   0,   0,\n",
              "          0,   0],\n",
              "       [  1,   2,   0,   0,   0,   2,   0,   4,   0,   5,   6,   0,   7,\n",
              "          0,   0,   9,  20, 234, 251, 190,  15,   4,   0,   6,   0,   0,\n",
              "          0,   0],\n",
              "       [  0,  10,   1,   0,   5,  10,   0,   0,   0,   2,   0,   0,   5,\n",
              "          2,   0,   5,  80, 255, 251,  71,   5,   0,   0,   7,   0,   0,\n",
              "          0,   0],\n",
              "       [  0,   8,   2,   0,   8,   4,   0,   0,   0,  28,  79,  84,   2,\n",
              "          0,   6,   0, 178, 245, 245,   0,   0,   0,   0,   0,   0,   0,\n",
              "          0,   0],\n",
              "       [  0,   3,   0,   0,   6,   0,   0,  35, 143, 221, 249, 255, 254,\n",
              "        212, 124,  90, 247, 247, 163,   0,   0,   0,   4,   0,   0,   0,\n",
              "          0,   0],\n",
              "       [  7,   4,   0,   0,   7,   0,  12,  87, 255, 247, 249, 239, 232,\n",
              "        246, 255, 254, 251, 255,  45,  10,   0,   0,   2,   3,   0,   0,\n",
              "          0,   0],\n",
              "       [  4,   2,   0,   1,   0,   1,   0, 189, 254, 215,   0,   0,   4,\n",
              "         85, 242, 255, 246, 176,   9,   7,   0,  11,   0,   0,   0,   0,\n",
              "          0,   0],\n",
              "       [  0,   4,   1,   7,   0,   5,  12, 182, 255, 121,  31,   5,   5,\n",
              "         16, 255, 247, 255, 209,   0,   0,   0,   0,   7,   1,   0,   0,\n",
              "          0,   0],\n",
              "       [  0,   8,   0,   7,   0,   0,   8, 106, 255, 251, 122,   7,  12,\n",
              "        183, 235, 255, 255, 231, 123,   1,  12,   9,   0,   0,   0,   0,\n",
              "          0,   0],\n",
              "       [  3,   8,   0,   5,   0,   0,   0,  11, 153, 255, 252, 217, 204,\n",
              "        255, 255, 179, 207, 255, 250,  31,   2,   0,  10,  13,   0,   0,\n",
              "          0,   0],\n",
              "       [  0,   3,   0,   7,   2,   7,   4,   0,  12,  72, 230, 241, 255,\n",
              "        254, 182,  32,  56, 255, 250, 203,  17,   0,   8,   0,   0,   0,\n",
              "          0,   0],\n",
              "       [  0,   2,   0,   6,   0,   0,   9,   0,   0,  14,  15, 180, 236,\n",
              "        143,  39,   0,   3, 169, 245, 255,  69,   0,   0,  14,   0,   0,\n",
              "          0,   0],\n",
              "       [  2,   0,   6,   2,   0,   0,   0,   7,   9,   0,   0,   0,   4,\n",
              "          9,   0,   1,   0,  25, 229, 240, 233,  44,   0,   2,   0,   0,\n",
              "          0,   0],\n",
              "       [  4,   0,   2,   0,   3,   3,   0,   5,   0,   0,  10,   0,   0,\n",
              "          0,   0,   2,   3,   8,  47, 255, 255, 187,   0,   1,   0,   0,\n",
              "          0,   0],\n",
              "       [  0,   0,   0,   0,   0,   0,   0,   0,   0,   0,   0,   0,   0,\n",
              "          0,   0,   0,   0,   6,   5, 143, 253, 246,  78,   0,   0,   0,\n",
              "          0,   0],\n",
              "       [  0,   0,   0,   0,   0,   0,   0,   0,   0,   0,   0,   0,   0,\n",
              "          0,   0,   0,   0,   9,   0,   7,  13,   7,   0,   1,   0,   0,\n",
              "          0,   0],\n",
              "       [  0,   0,   0,   0,   0,   0,   0,   0,   0,   0,   0,   0,   0,\n",
              "          0,   0,   0,   3,   6,   0,   0,   4,   3,   0,  10,   0,   0,\n",
              "          0,   0],\n",
              "       [  0,   0,   0,   0,   0,   0,   0,   0,   0,   0,   0,   0,   0,\n",
              "          0,   0,   0,   0,   0,   3,   0,   5,   0,   4,   0,   0,   0,\n",
              "          0,   0]], dtype=uint8)</pre></div><script>\n",
              "      (() => {\n",
              "      const titles = ['show data', 'hide data'];\n",
              "      let index = 0\n",
              "      document.querySelector('#id-f2165d06-3e9a-4fbb-9390-e83738689f90 button').onclick = (e) => {\n",
              "        document.querySelector('#id-f2165d06-3e9a-4fbb-9390-e83738689f90').classList.toggle('show_array');\n",
              "        index = (++index) % 2;\n",
              "        document.querySelector('#id-f2165d06-3e9a-4fbb-9390-e83738689f90 button').textContent = titles[index];\n",
              "        e.preventDefault();\n",
              "        e.stopPropagation();\n",
              "      }\n",
              "      })();\n",
              "    </script>"
            ]
          },
          "metadata": {},
          "execution_count": 81
        }
      ]
    },
    {
      "cell_type": "code",
      "source": [
        "img = img/255"
      ],
      "metadata": {
        "id": "OOQGz8gt0lGC"
      },
      "execution_count": 82,
      "outputs": []
    },
    {
      "cell_type": "code",
      "source": [
        "img"
      ],
      "metadata": {
        "colab": {
          "base_uri": "https://localhost:8080/"
        },
        "id": "dV4-1FK-0sQk",
        "outputId": "d73f9194-9550-450a-e24a-3c5aed055599"
      },
      "execution_count": 83,
      "outputs": [
        {
          "output_type": "execute_result",
          "data": {
            "text/plain": [
              "array([[0.        , 0.        , 0.        , 0.        , 0.        ,\n",
              "        0.        , 0.        , 0.        , 0.        , 0.0627451 ,\n",
              "        0.        , 0.        , 0.00784314, 0.        , 0.02352941,\n",
              "        0.        , 0.        , 0.        , 0.        , 0.        ,\n",
              "        0.04313725, 0.        , 0.        , 0.03137255, 0.        ,\n",
              "        0.        , 0.        , 0.        ],\n",
              "       [0.        , 0.        , 0.        , 0.        , 0.        ,\n",
              "        0.        , 0.        , 0.        , 0.01568627, 0.        ,\n",
              "        0.        , 0.02352941, 0.00784314, 0.        , 0.        ,\n",
              "        0.01176471, 0.01176471, 0.01176471, 0.07843137, 0.02745098,\n",
              "        0.        , 0.00784314, 0.0745098 , 0.        , 0.        ,\n",
              "        0.        , 0.        , 0.        ],\n",
              "       [0.        , 0.        , 0.        , 0.        , 0.        ,\n",
              "        0.        , 0.        , 0.        , 0.05490196, 0.        ,\n",
              "        0.03137255, 0.03137255, 0.        , 0.02745098, 0.        ,\n",
              "        0.00392157, 0.        , 0.        , 0.        , 0.02745098,\n",
              "        0.05098039, 0.        , 0.        , 0.00784314, 0.        ,\n",
              "        0.        , 0.        , 0.        ],\n",
              "       [0.        , 0.        , 0.        , 0.        , 0.        ,\n",
              "        0.        , 0.        , 0.        , 0.00392157, 0.        ,\n",
              "        0.        , 0.        , 0.        , 0.05882353, 0.01960784,\n",
              "        0.        , 0.        , 0.07058824, 0.00784314, 0.        ,\n",
              "        0.00392157, 0.00784314, 0.        , 0.02745098, 0.        ,\n",
              "        0.        , 0.        , 0.        ],\n",
              "       [0.        , 0.        , 0.        , 0.        , 0.        ,\n",
              "        0.        , 0.        , 0.        , 0.        , 0.08235294,\n",
              "        0.02352941, 0.        , 0.00784314, 0.        , 0.        ,\n",
              "        0.        , 0.03529412, 0.        , 0.        , 0.01960784,\n",
              "        0.        , 0.00392157, 0.05098039, 0.        , 0.        ,\n",
              "        0.        , 0.        , 0.        ],\n",
              "       [0.        , 0.        , 0.        , 0.        , 0.        ,\n",
              "        0.        , 0.        , 0.        , 0.        , 0.        ,\n",
              "        0.        , 0.4627451 , 0.93333333, 1.        , 1.        ,\n",
              "        0.97647059, 0.50588235, 0.21176471, 0.        , 0.        ,\n",
              "        0.01960784, 0.        , 0.        , 0.        , 0.        ,\n",
              "        0.        , 0.        , 0.        ],\n",
              "       [0.        , 0.        , 0.        , 0.        , 0.        ,\n",
              "        0.        , 0.        , 0.        , 0.        , 0.03137255,\n",
              "        0.41568627, 0.90196078, 1.        , 0.96862745, 0.98039216,\n",
              "        0.97647059, 1.        , 0.96078431, 0.53333333, 0.07058824,\n",
              "        0.        , 0.01960784, 0.        , 0.        , 0.        ,\n",
              "        0.        , 0.        , 0.        ],\n",
              "       [0.        , 0.        , 0.        , 0.        , 0.        ,\n",
              "        0.        , 0.        , 0.        , 0.01176471, 0.        ,\n",
              "        0.55294118, 1.        , 1.        , 0.96470588, 0.82745098,\n",
              "        0.62745098, 0.85490196, 1.        , 1.        , 0.64705882,\n",
              "        0.13333333, 0.        , 0.        , 0.01960784, 0.        ,\n",
              "        0.        , 0.        , 0.        ],\n",
              "       [0.        , 0.        , 0.01568627, 0.        , 0.        ,\n",
              "        0.00392157, 0.02352941, 0.        , 0.00392157, 0.        ,\n",
              "        0.1254902 , 0.81568627, 0.81960784, 0.74901961, 0.20392157,\n",
              "        0.        , 0.1372549 , 0.81960784, 0.98431373, 1.        ,\n",
              "        0.09803922, 0.        , 0.        , 0.01568627, 0.        ,\n",
              "        0.        , 0.        , 0.        ],\n",
              "       [0.00784314, 0.00392157, 0.02352941, 0.02745098, 0.        ,\n",
              "        0.        , 0.00392157, 0.        , 0.        , 0.09803922,\n",
              "        0.        , 0.02745098, 0.        , 0.02352941, 0.        ,\n",
              "        0.09803922, 0.00392157, 0.52156863, 0.99607843, 1.        ,\n",
              "        0.05098039, 0.00392157, 0.02352941, 0.        , 0.        ,\n",
              "        0.        , 0.        , 0.        ],\n",
              "       [0.00392157, 0.        , 0.        , 0.01568627, 0.00784314,\n",
              "        0.        , 0.        , 0.00784314, 0.00392157, 0.        ,\n",
              "        0.01176471, 0.00392157, 0.        , 0.02745098, 0.0745098 ,\n",
              "        0.        , 0.        , 0.56862745, 1.        , 1.        ,\n",
              "        0.05098039, 0.02352941, 0.02745098, 0.        , 0.        ,\n",
              "        0.        , 0.        , 0.        ],\n",
              "       [0.00392157, 0.00784314, 0.        , 0.        , 0.        ,\n",
              "        0.00784314, 0.        , 0.01568627, 0.        , 0.01960784,\n",
              "        0.02352941, 0.        , 0.02745098, 0.        , 0.        ,\n",
              "        0.03529412, 0.07843137, 0.91764706, 0.98431373, 0.74509804,\n",
              "        0.05882353, 0.01568627, 0.        , 0.02352941, 0.        ,\n",
              "        0.        , 0.        , 0.        ],\n",
              "       [0.        , 0.03921569, 0.00392157, 0.        , 0.01960784,\n",
              "        0.03921569, 0.        , 0.        , 0.        , 0.00784314,\n",
              "        0.        , 0.        , 0.01960784, 0.00784314, 0.        ,\n",
              "        0.01960784, 0.31372549, 1.        , 0.98431373, 0.27843137,\n",
              "        0.01960784, 0.        , 0.        , 0.02745098, 0.        ,\n",
              "        0.        , 0.        , 0.        ],\n",
              "       [0.        , 0.03137255, 0.00784314, 0.        , 0.03137255,\n",
              "        0.01568627, 0.        , 0.        , 0.        , 0.10980392,\n",
              "        0.30980392, 0.32941176, 0.00784314, 0.        , 0.02352941,\n",
              "        0.        , 0.69803922, 0.96078431, 0.96078431, 0.        ,\n",
              "        0.        , 0.        , 0.        , 0.        , 0.        ,\n",
              "        0.        , 0.        , 0.        ],\n",
              "       [0.        , 0.01176471, 0.        , 0.        , 0.02352941,\n",
              "        0.        , 0.        , 0.1372549 , 0.56078431, 0.86666667,\n",
              "        0.97647059, 1.        , 0.99607843, 0.83137255, 0.48627451,\n",
              "        0.35294118, 0.96862745, 0.96862745, 0.63921569, 0.        ,\n",
              "        0.        , 0.        , 0.01568627, 0.        , 0.        ,\n",
              "        0.        , 0.        , 0.        ],\n",
              "       [0.02745098, 0.01568627, 0.        , 0.        , 0.02745098,\n",
              "        0.        , 0.04705882, 0.34117647, 1.        , 0.96862745,\n",
              "        0.97647059, 0.9372549 , 0.90980392, 0.96470588, 1.        ,\n",
              "        0.99607843, 0.98431373, 1.        , 0.17647059, 0.03921569,\n",
              "        0.        , 0.        , 0.00784314, 0.01176471, 0.        ,\n",
              "        0.        , 0.        , 0.        ],\n",
              "       [0.01568627, 0.00784314, 0.        , 0.00392157, 0.        ,\n",
              "        0.00392157, 0.        , 0.74117647, 0.99607843, 0.84313725,\n",
              "        0.        , 0.        , 0.01568627, 0.33333333, 0.94901961,\n",
              "        1.        , 0.96470588, 0.69019608, 0.03529412, 0.02745098,\n",
              "        0.        , 0.04313725, 0.        , 0.        , 0.        ,\n",
              "        0.        , 0.        , 0.        ],\n",
              "       [0.        , 0.01568627, 0.00392157, 0.02745098, 0.        ,\n",
              "        0.01960784, 0.04705882, 0.71372549, 1.        , 0.4745098 ,\n",
              "        0.12156863, 0.01960784, 0.01960784, 0.0627451 , 1.        ,\n",
              "        0.96862745, 1.        , 0.81960784, 0.        , 0.        ,\n",
              "        0.        , 0.        , 0.02745098, 0.00392157, 0.        ,\n",
              "        0.        , 0.        , 0.        ],\n",
              "       [0.        , 0.03137255, 0.        , 0.02745098, 0.        ,\n",
              "        0.        , 0.03137255, 0.41568627, 1.        , 0.98431373,\n",
              "        0.47843137, 0.02745098, 0.04705882, 0.71764706, 0.92156863,\n",
              "        1.        , 1.        , 0.90588235, 0.48235294, 0.00392157,\n",
              "        0.04705882, 0.03529412, 0.        , 0.        , 0.        ,\n",
              "        0.        , 0.        , 0.        ],\n",
              "       [0.01176471, 0.03137255, 0.        , 0.01960784, 0.        ,\n",
              "        0.        , 0.        , 0.04313725, 0.6       , 1.        ,\n",
              "        0.98823529, 0.85098039, 0.8       , 1.        , 1.        ,\n",
              "        0.70196078, 0.81176471, 1.        , 0.98039216, 0.12156863,\n",
              "        0.00784314, 0.        , 0.03921569, 0.05098039, 0.        ,\n",
              "        0.        , 0.        , 0.        ],\n",
              "       [0.        , 0.01176471, 0.        , 0.02745098, 0.00784314,\n",
              "        0.02745098, 0.01568627, 0.        , 0.04705882, 0.28235294,\n",
              "        0.90196078, 0.94509804, 1.        , 0.99607843, 0.71372549,\n",
              "        0.1254902 , 0.21960784, 1.        , 0.98039216, 0.79607843,\n",
              "        0.06666667, 0.        , 0.03137255, 0.        , 0.        ,\n",
              "        0.        , 0.        , 0.        ],\n",
              "       [0.        , 0.00784314, 0.        , 0.02352941, 0.        ,\n",
              "        0.        , 0.03529412, 0.        , 0.        , 0.05490196,\n",
              "        0.05882353, 0.70588235, 0.9254902 , 0.56078431, 0.15294118,\n",
              "        0.        , 0.01176471, 0.6627451 , 0.96078431, 1.        ,\n",
              "        0.27058824, 0.        , 0.        , 0.05490196, 0.        ,\n",
              "        0.        , 0.        , 0.        ],\n",
              "       [0.00784314, 0.        , 0.02352941, 0.00784314, 0.        ,\n",
              "        0.        , 0.        , 0.02745098, 0.03529412, 0.        ,\n",
              "        0.        , 0.        , 0.01568627, 0.03529412, 0.        ,\n",
              "        0.00392157, 0.        , 0.09803922, 0.89803922, 0.94117647,\n",
              "        0.91372549, 0.17254902, 0.        , 0.00784314, 0.        ,\n",
              "        0.        , 0.        , 0.        ],\n",
              "       [0.01568627, 0.        , 0.00784314, 0.        , 0.01176471,\n",
              "        0.01176471, 0.        , 0.01960784, 0.        , 0.        ,\n",
              "        0.03921569, 0.        , 0.        , 0.        , 0.        ,\n",
              "        0.00784314, 0.01176471, 0.03137255, 0.18431373, 1.        ,\n",
              "        1.        , 0.73333333, 0.        , 0.00392157, 0.        ,\n",
              "        0.        , 0.        , 0.        ],\n",
              "       [0.        , 0.        , 0.        , 0.        , 0.        ,\n",
              "        0.        , 0.        , 0.        , 0.        , 0.        ,\n",
              "        0.        , 0.        , 0.        , 0.        , 0.        ,\n",
              "        0.        , 0.        , 0.02352941, 0.01960784, 0.56078431,\n",
              "        0.99215686, 0.96470588, 0.30588235, 0.        , 0.        ,\n",
              "        0.        , 0.        , 0.        ],\n",
              "       [0.        , 0.        , 0.        , 0.        , 0.        ,\n",
              "        0.        , 0.        , 0.        , 0.        , 0.        ,\n",
              "        0.        , 0.        , 0.        , 0.        , 0.        ,\n",
              "        0.        , 0.        , 0.03529412, 0.        , 0.02745098,\n",
              "        0.05098039, 0.02745098, 0.        , 0.00392157, 0.        ,\n",
              "        0.        , 0.        , 0.        ],\n",
              "       [0.        , 0.        , 0.        , 0.        , 0.        ,\n",
              "        0.        , 0.        , 0.        , 0.        , 0.        ,\n",
              "        0.        , 0.        , 0.        , 0.        , 0.        ,\n",
              "        0.        , 0.01176471, 0.02352941, 0.        , 0.        ,\n",
              "        0.01568627, 0.01176471, 0.        , 0.03921569, 0.        ,\n",
              "        0.        , 0.        , 0.        ],\n",
              "       [0.        , 0.        , 0.        , 0.        , 0.        ,\n",
              "        0.        , 0.        , 0.        , 0.        , 0.        ,\n",
              "        0.        , 0.        , 0.        , 0.        , 0.        ,\n",
              "        0.        , 0.        , 0.        , 0.01176471, 0.        ,\n",
              "        0.01960784, 0.        , 0.01568627, 0.        , 0.        ,\n",
              "        0.        , 0.        , 0.        ]])"
            ]
          },
          "metadata": {},
          "execution_count": 83
        }
      ]
    },
    {
      "cell_type": "code",
      "source": [
        "img_reshape = np.reshape(img, (1,28,28))"
      ],
      "metadata": {
        "id": "nE_VZx160sir"
      },
      "execution_count": 84,
      "outputs": []
    },
    {
      "cell_type": "code",
      "source": [
        "prediction = model.predict(img_reshape)"
      ],
      "metadata": {
        "colab": {
          "base_uri": "https://localhost:8080/"
        },
        "id": "wLHkKKPM0yK7",
        "outputId": "75a3228c-61e5-4a76-9f07-cbdf7a206b44"
      },
      "execution_count": 85,
      "outputs": [
        {
          "output_type": "stream",
          "name": "stdout",
          "text": [
            "\u001b[1m1/1\u001b[0m \u001b[32m━━━━━━━━━━━━━━━━━━━━\u001b[0m\u001b[37m\u001b[0m \u001b[1m0s\u001b[0m 51ms/step\n"
          ]
        }
      ]
    },
    {
      "cell_type": "code",
      "source": [
        "print(prediction)"
      ],
      "metadata": {
        "colab": {
          "base_uri": "https://localhost:8080/"
        },
        "id": "UWa1RuBv00EK",
        "outputId": "61644c89-2bb5-4a33-b3c8-9b4af3b06a6e"
      },
      "execution_count": 86,
      "outputs": [
        {
          "output_type": "stream",
          "name": "stdout",
          "text": [
            "[[9.30256988e-07 9.54223225e-08 1.00000000e+00 3.13252896e-01\n",
            "  7.08037291e-08 1.23895245e-06 1.09491168e-07 6.71410419e-07\n",
            "  1.74402760e-03 1.15637055e-08]]\n"
          ]
        }
      ]
    },
    {
      "cell_type": "code",
      "source": [
        "pred_labels = np.argmax(prediction)"
      ],
      "metadata": {
        "id": "G3-KrsPO01LL"
      },
      "execution_count": 87,
      "outputs": []
    },
    {
      "cell_type": "code",
      "source": [
        "print(pred_labels)"
      ],
      "metadata": {
        "colab": {
          "base_uri": "https://localhost:8080/"
        },
        "id": "ilAJfZA_05Zb",
        "outputId": "e7a112e0-4a9d-488d-f126-9dc01c23b3d3"
      },
      "execution_count": 88,
      "outputs": [
        {
          "output_type": "stream",
          "name": "stdout",
          "text": [
            "2\n"
          ]
        }
      ]
    },
    {
      "cell_type": "code",
      "source": [
        "import joblib\n",
        "joblib.dump(model, \"mnist_model.pkl\")"
      ],
      "metadata": {
        "colab": {
          "base_uri": "https://localhost:8080/"
        },
        "id": "MlHatYKg06kz",
        "outputId": "810919ed-58b2-4c31-e08f-3faa038d3e8a"
      },
      "execution_count": 89,
      "outputs": [
        {
          "output_type": "execute_result",
          "data": {
            "text/plain": [
              "['mnist_model.pkl']"
            ]
          },
          "metadata": {},
          "execution_count": 89
        }
      ]
    },
    {
      "cell_type": "code",
      "source": [
        "!pip install gradio"
      ],
      "metadata": {
        "colab": {
          "base_uri": "https://localhost:8080/"
        },
        "id": "90KlZMFa59TL",
        "outputId": "50a8f498-c026-4e93-c1a6-d75b3c931769"
      },
      "execution_count": 90,
      "outputs": [
        {
          "output_type": "stream",
          "name": "stdout",
          "text": [
            "Collecting gradio\n",
            "  Downloading gradio-5.26.0-py3-none-any.whl.metadata (16 kB)\n",
            "Collecting aiofiles<25.0,>=22.0 (from gradio)\n",
            "  Downloading aiofiles-24.1.0-py3-none-any.whl.metadata (10 kB)\n",
            "Requirement already satisfied: anyio<5.0,>=3.0 in /usr/local/lib/python3.11/dist-packages (from gradio) (4.9.0)\n",
            "Collecting fastapi<1.0,>=0.115.2 (from gradio)\n",
            "  Downloading fastapi-0.115.12-py3-none-any.whl.metadata (27 kB)\n",
            "Collecting ffmpy (from gradio)\n",
            "  Downloading ffmpy-0.5.0-py3-none-any.whl.metadata (3.0 kB)\n",
            "Collecting gradio-client==1.9.0 (from gradio)\n",
            "  Downloading gradio_client-1.9.0-py3-none-any.whl.metadata (7.1 kB)\n",
            "Collecting groovy~=0.1 (from gradio)\n",
            "  Downloading groovy-0.1.2-py3-none-any.whl.metadata (6.1 kB)\n",
            "Requirement already satisfied: httpx>=0.24.1 in /usr/local/lib/python3.11/dist-packages (from gradio) (0.28.1)\n",
            "Requirement already satisfied: huggingface-hub>=0.28.1 in /usr/local/lib/python3.11/dist-packages (from gradio) (0.30.2)\n",
            "Requirement already satisfied: jinja2<4.0 in /usr/local/lib/python3.11/dist-packages (from gradio) (3.1.6)\n",
            "Requirement already satisfied: markupsafe<4.0,>=2.0 in /usr/local/lib/python3.11/dist-packages (from gradio) (3.0.2)\n",
            "Requirement already satisfied: numpy<3.0,>=1.0 in /usr/local/lib/python3.11/dist-packages (from gradio) (2.0.2)\n",
            "Requirement already satisfied: orjson~=3.0 in /usr/local/lib/python3.11/dist-packages (from gradio) (3.10.16)\n",
            "Requirement already satisfied: packaging in /usr/local/lib/python3.11/dist-packages (from gradio) (24.2)\n",
            "Requirement already satisfied: pandas<3.0,>=1.0 in /usr/local/lib/python3.11/dist-packages (from gradio) (2.2.2)\n",
            "Requirement already satisfied: pillow<12.0,>=8.0 in /usr/local/lib/python3.11/dist-packages (from gradio) (11.1.0)\n",
            "Requirement already satisfied: pydantic<2.12,>=2.0 in /usr/local/lib/python3.11/dist-packages (from gradio) (2.11.3)\n",
            "Collecting pydub (from gradio)\n",
            "  Downloading pydub-0.25.1-py2.py3-none-any.whl.metadata (1.4 kB)\n",
            "Collecting python-multipart>=0.0.18 (from gradio)\n",
            "  Downloading python_multipart-0.0.20-py3-none-any.whl.metadata (1.8 kB)\n",
            "Requirement already satisfied: pyyaml<7.0,>=5.0 in /usr/local/lib/python3.11/dist-packages (from gradio) (6.0.2)\n",
            "Collecting ruff>=0.9.3 (from gradio)\n",
            "  Downloading ruff-0.11.7-py3-none-manylinux_2_17_x86_64.manylinux2014_x86_64.whl.metadata (25 kB)\n",
            "Collecting safehttpx<0.2.0,>=0.1.6 (from gradio)\n",
            "  Downloading safehttpx-0.1.6-py3-none-any.whl.metadata (4.2 kB)\n",
            "Collecting semantic-version~=2.0 (from gradio)\n",
            "  Downloading semantic_version-2.10.0-py2.py3-none-any.whl.metadata (9.7 kB)\n",
            "Collecting starlette<1.0,>=0.40.0 (from gradio)\n",
            "  Downloading starlette-0.46.2-py3-none-any.whl.metadata (6.2 kB)\n",
            "Collecting tomlkit<0.14.0,>=0.12.0 (from gradio)\n",
            "  Downloading tomlkit-0.13.2-py3-none-any.whl.metadata (2.7 kB)\n",
            "Requirement already satisfied: typer<1.0,>=0.12 in /usr/local/lib/python3.11/dist-packages (from gradio) (0.15.2)\n",
            "Requirement already satisfied: typing-extensions~=4.0 in /usr/local/lib/python3.11/dist-packages (from gradio) (4.13.2)\n",
            "Collecting uvicorn>=0.14.0 (from gradio)\n",
            "  Downloading uvicorn-0.34.2-py3-none-any.whl.metadata (6.5 kB)\n",
            "Requirement already satisfied: fsspec in /usr/local/lib/python3.11/dist-packages (from gradio-client==1.9.0->gradio) (2025.3.2)\n",
            "Requirement already satisfied: websockets<16.0,>=10.0 in /usr/local/lib/python3.11/dist-packages (from gradio-client==1.9.0->gradio) (15.0.1)\n",
            "Requirement already satisfied: idna>=2.8 in /usr/local/lib/python3.11/dist-packages (from anyio<5.0,>=3.0->gradio) (3.10)\n",
            "Requirement already satisfied: sniffio>=1.1 in /usr/local/lib/python3.11/dist-packages (from anyio<5.0,>=3.0->gradio) (1.3.1)\n",
            "Requirement already satisfied: certifi in /usr/local/lib/python3.11/dist-packages (from httpx>=0.24.1->gradio) (2025.1.31)\n",
            "Requirement already satisfied: httpcore==1.* in /usr/local/lib/python3.11/dist-packages (from httpx>=0.24.1->gradio) (1.0.8)\n",
            "Requirement already satisfied: h11<0.15,>=0.13 in /usr/local/lib/python3.11/dist-packages (from httpcore==1.*->httpx>=0.24.1->gradio) (0.14.0)\n",
            "Requirement already satisfied: filelock in /usr/local/lib/python3.11/dist-packages (from huggingface-hub>=0.28.1->gradio) (3.18.0)\n",
            "Requirement already satisfied: requests in /usr/local/lib/python3.11/dist-packages (from huggingface-hub>=0.28.1->gradio) (2.32.3)\n",
            "Requirement already satisfied: tqdm>=4.42.1 in /usr/local/lib/python3.11/dist-packages (from huggingface-hub>=0.28.1->gradio) (4.67.1)\n",
            "Requirement already satisfied: python-dateutil>=2.8.2 in /usr/local/lib/python3.11/dist-packages (from pandas<3.0,>=1.0->gradio) (2.8.2)\n",
            "Requirement already satisfied: pytz>=2020.1 in /usr/local/lib/python3.11/dist-packages (from pandas<3.0,>=1.0->gradio) (2025.2)\n",
            "Requirement already satisfied: tzdata>=2022.7 in /usr/local/lib/python3.11/dist-packages (from pandas<3.0,>=1.0->gradio) (2025.2)\n",
            "Requirement already satisfied: annotated-types>=0.6.0 in /usr/local/lib/python3.11/dist-packages (from pydantic<2.12,>=2.0->gradio) (0.7.0)\n",
            "Requirement already satisfied: pydantic-core==2.33.1 in /usr/local/lib/python3.11/dist-packages (from pydantic<2.12,>=2.0->gradio) (2.33.1)\n",
            "Requirement already satisfied: typing-inspection>=0.4.0 in /usr/local/lib/python3.11/dist-packages (from pydantic<2.12,>=2.0->gradio) (0.4.0)\n",
            "Requirement already satisfied: click>=8.0.0 in /usr/local/lib/python3.11/dist-packages (from typer<1.0,>=0.12->gradio) (8.1.8)\n",
            "Requirement already satisfied: shellingham>=1.3.0 in /usr/local/lib/python3.11/dist-packages (from typer<1.0,>=0.12->gradio) (1.5.4)\n",
            "Requirement already satisfied: rich>=10.11.0 in /usr/local/lib/python3.11/dist-packages (from typer<1.0,>=0.12->gradio) (13.9.4)\n",
            "Requirement already satisfied: six>=1.5 in /usr/local/lib/python3.11/dist-packages (from python-dateutil>=2.8.2->pandas<3.0,>=1.0->gradio) (1.17.0)\n",
            "Requirement already satisfied: markdown-it-py>=2.2.0 in /usr/local/lib/python3.11/dist-packages (from rich>=10.11.0->typer<1.0,>=0.12->gradio) (3.0.0)\n",
            "Requirement already satisfied: pygments<3.0.0,>=2.13.0 in /usr/local/lib/python3.11/dist-packages (from rich>=10.11.0->typer<1.0,>=0.12->gradio) (2.18.0)\n",
            "Requirement already satisfied: charset-normalizer<4,>=2 in /usr/local/lib/python3.11/dist-packages (from requests->huggingface-hub>=0.28.1->gradio) (3.4.1)\n",
            "Requirement already satisfied: urllib3<3,>=1.21.1 in /usr/local/lib/python3.11/dist-packages (from requests->huggingface-hub>=0.28.1->gradio) (2.3.0)\n",
            "Requirement already satisfied: mdurl~=0.1 in /usr/local/lib/python3.11/dist-packages (from markdown-it-py>=2.2.0->rich>=10.11.0->typer<1.0,>=0.12->gradio) (0.1.2)\n",
            "Downloading gradio-5.26.0-py3-none-any.whl (46.9 MB)\n",
            "\u001b[2K   \u001b[90m━━━━━━━━━━━━━━━━━━━━━━━━━━━━━━━━━━━━━━━━\u001b[0m \u001b[32m46.9/46.9 MB\u001b[0m \u001b[31m15.9 MB/s\u001b[0m eta \u001b[36m0:00:00\u001b[0m\n",
            "\u001b[?25hDownloading gradio_client-1.9.0-py3-none-any.whl (322 kB)\n",
            "\u001b[2K   \u001b[90m━━━━━━━━━━━━━━━━━━━━━━━━━━━━━━━━━━━━━━━━\u001b[0m \u001b[32m322.6/322.6 kB\u001b[0m \u001b[31m23.6 MB/s\u001b[0m eta \u001b[36m0:00:00\u001b[0m\n",
            "\u001b[?25hDownloading aiofiles-24.1.0-py3-none-any.whl (15 kB)\n",
            "Downloading fastapi-0.115.12-py3-none-any.whl (95 kB)\n",
            "\u001b[2K   \u001b[90m━━━━━━━━━━━━━━━━━━━━━━━━━━━━━━━━━━━━━━━━\u001b[0m \u001b[32m95.2/95.2 kB\u001b[0m \u001b[31m8.1 MB/s\u001b[0m eta \u001b[36m0:00:00\u001b[0m\n",
            "\u001b[?25hDownloading groovy-0.1.2-py3-none-any.whl (14 kB)\n",
            "Downloading python_multipart-0.0.20-py3-none-any.whl (24 kB)\n",
            "Downloading ruff-0.11.7-py3-none-manylinux_2_17_x86_64.manylinux2014_x86_64.whl (11.5 MB)\n",
            "\u001b[2K   \u001b[90m━━━━━━━━━━━━━━━━━━━━━━━━━━━━━━━━━━━━━━━━\u001b[0m \u001b[32m11.5/11.5 MB\u001b[0m \u001b[31m110.7 MB/s\u001b[0m eta \u001b[36m0:00:00\u001b[0m\n",
            "\u001b[?25hDownloading safehttpx-0.1.6-py3-none-any.whl (8.7 kB)\n",
            "Downloading semantic_version-2.10.0-py2.py3-none-any.whl (15 kB)\n",
            "Downloading starlette-0.46.2-py3-none-any.whl (72 kB)\n",
            "\u001b[2K   \u001b[90m━━━━━━━━━━━━━━━━━━━━━━━━━━━━━━━━━━━━━━━━\u001b[0m \u001b[32m72.0/72.0 kB\u001b[0m \u001b[31m5.5 MB/s\u001b[0m eta \u001b[36m0:00:00\u001b[0m\n",
            "\u001b[?25hDownloading tomlkit-0.13.2-py3-none-any.whl (37 kB)\n",
            "Downloading uvicorn-0.34.2-py3-none-any.whl (62 kB)\n",
            "\u001b[2K   \u001b[90m━━━━━━━━━━━━━━━━━━━━━━━━━━━━━━━━━━━━━━━━\u001b[0m \u001b[32m62.5/62.5 kB\u001b[0m \u001b[31m4.9 MB/s\u001b[0m eta \u001b[36m0:00:00\u001b[0m\n",
            "\u001b[?25hDownloading ffmpy-0.5.0-py3-none-any.whl (6.0 kB)\n",
            "Downloading pydub-0.25.1-py2.py3-none-any.whl (32 kB)\n",
            "Installing collected packages: pydub, uvicorn, tomlkit, semantic-version, ruff, python-multipart, groovy, ffmpy, aiofiles, starlette, safehttpx, gradio-client, fastapi, gradio\n",
            "Successfully installed aiofiles-24.1.0 fastapi-0.115.12 ffmpy-0.5.0 gradio-5.26.0 gradio-client-1.9.0 groovy-0.1.2 pydub-0.25.1 python-multipart-0.0.20 ruff-0.11.7 safehttpx-0.1.6 semantic-version-2.10.0 starlette-0.46.2 tomlkit-0.13.2 uvicorn-0.34.2\n"
          ]
        }
      ]
    },
    {
      "cell_type": "code",
      "source": [
        "import gradio as gr\n",
        "import numpy as np\n",
        "from PIL import Image\n",
        "import joblib\n",
        "\n",
        "# Load model\n",
        "model = joblib.load(\"mnist_model.pkl\")\n",
        "\n",
        "# Prediction function\n",
        "def predict_digit(image):\n",
        "    # Convert to grayscale if needed\n",
        "    image = image.convert(\"L\")\n",
        "\n",
        "    # Resize to 28x28\n",
        "    image = image.resize((28, 28))\n",
        "\n",
        "    # Convert to numpy array and normalize\n",
        "    image_array = np.array(image) / 255.0\n",
        "\n",
        "    # Reshape to match model input\n",
        "    image_reshaped = image_array.reshape(1, 28, 28)\n",
        "\n",
        "    # Make prediction\n",
        "    prediction = model.predict(image_reshaped)\n",
        "\n",
        "    # Get predicted class\n",
        "    predicted_digit = np.argmax(prediction)\n",
        "\n",
        "    return f\"Predicted Digit: {predicted_digit}\"\n",
        "\n",
        "# Gradio interface\n",
        "gr.Interface(\n",
        "    fn=predict_digit,\n",
        "    inputs=gr.Image(type=\"pil\", label=\"Upload a handwritten digit\"),\n",
        "    outputs=gr.Textbox(label=\"Prediction\"),\n",
        "    title=\"MNIST Handwritten Digit Classifier\",\n",
        "    description=\"Upload an image of a digit (0–9) to see what the model predicts.\"\n",
        ").launch()\n"
      ],
      "metadata": {
        "colab": {
          "base_uri": "https://localhost:8080/",
          "height": 646
        },
        "id": "r_gQ6h3059Vj",
        "outputId": "4dd7baae-bb8d-4772-c916-2022f7497dd6"
      },
      "execution_count": 91,
      "outputs": [
        {
          "output_type": "stream",
          "name": "stdout",
          "text": [
            "It looks like you are running Gradio on a hosted a Jupyter notebook. For the Gradio app to work, sharing must be enabled. Automatically setting `share=True` (you can turn this off by setting `share=False` in `launch()` explicitly).\n",
            "\n",
            "Colab notebook detected. To show errors in colab notebook, set debug=True in launch()\n",
            "* Running on public URL: https://959e1c77fbf8d5f8da.gradio.live\n",
            "\n",
            "This share link expires in 1 week. For free permanent hosting and GPU upgrades, run `gradio deploy` from the terminal in the working directory to deploy to Hugging Face Spaces (https://huggingface.co/spaces)\n"
          ]
        },
        {
          "output_type": "display_data",
          "data": {
            "text/plain": [
              "<IPython.core.display.HTML object>"
            ],
            "text/html": [
              "<div><iframe src=\"https://959e1c77fbf8d5f8da.gradio.live\" width=\"100%\" height=\"500\" allow=\"autoplay; camera; microphone; clipboard-read; clipboard-write;\" frameborder=\"0\" allowfullscreen></iframe></div>"
            ]
          },
          "metadata": {}
        },
        {
          "output_type": "execute_result",
          "data": {
            "text/plain": []
          },
          "metadata": {},
          "execution_count": 91
        }
      ]
    }
  ]
}